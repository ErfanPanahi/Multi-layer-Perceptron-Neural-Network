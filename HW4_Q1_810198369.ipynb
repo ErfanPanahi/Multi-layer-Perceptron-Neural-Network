{
  "cells": [
    {
      "cell_type": "code",
      "execution_count": 140,
      "metadata": {
        "cellView": "form",
        "id": "DYfjnVSkQ6U5"
      },
      "outputs": [],
      "source": [
        "#@title Importing Packages\n",
        "import numpy as np\n",
        "import matplotlib.pyplot as plt"
      ]
    },
    {
      "cell_type": "code",
      "execution_count": 141,
      "metadata": {
        "cellView": "form",
        "id": "R3BzRsbZVPvW"
      },
      "outputs": [],
      "source": [
        "#@title Functions\n",
        "def Initialization(a, b):\n",
        "  X1 = np.array([[a],[b],[a]]); y1 = np.array([a])\n",
        "  X2 = np.array([[b],[a],[b]]); y2 = np.array([b])\n",
        "  X = [X1, X2]; y = [y1, y2]\n",
        "  W1 = np.array([[0.1*a,0.2*b],[0.3*a,0.4*b],[0.5*a,0.4*b]])\n",
        "  W2 = np.array([[a+0.15,a+0.25,a+0.35],[b+0.45,b+0.55,b+0.65]])\n",
        "  W3 = np.array([[a*b+0.12,a*b+0.22],[a*b+0.32,a*b+0.42],[a*b+0.52,a*b+0.62]])\n",
        "  W4 = np.array([[a-b+0.16],[a-b+0.36]])\n",
        "  B1 = np.array([[float('0.'+str(a)+'1')],[float('0.'+str(b)+'2')]])\n",
        "  B2 = np.array([[a+b+0.15],[a+b+0.25],[a+b+0.35]])\n",
        "  B3 = np.array([[a/(b+1)+0.12],[a/(b+1)+0.22]])\n",
        "  B4 = np.array([b-a+0.26])\n",
        "  return X, y,  W1, B1, W2, B2, W3, B3, W4, B4\n",
        "\n",
        "def Perceptron(X, y, W1, B1, W2, B2, W3, B3, W4, B4, eta, Epoch, Itr):\n",
        "  (W1_bar, W2_bar, W3_bar, W4_bar) = (W1.T, W2.T, W3.T, W4.T)\n",
        "  E = [0, 0]; error = []\n",
        "  for i in range(Epoch):\n",
        "    print(f'epoch ({i+1}):')\n",
        "    for itr in range(Itr):\n",
        "      A1, Z, A2, K, A3, P, A4, y_hat = FeedForward(X[itr], W1_bar, B1, W2_bar, B2, W3_bar, B3, W4_bar, B4)\n",
        "      W1_bar, B1, W2_bar, B2, W3_bar, B3, W4_bar, B4 = BackPropagation(y[itr], X[itr], A1, Z, A2, K, A3, P, A4, y_hat, W1_bar, B1, W2_bar, B2, W3_bar, B3, W4_bar, B4, eta)\n",
        "      E[itr] = 1/2 * (y[itr] - y_hat) ** 2\n",
        "      print(f'\\tstep {itr+1} (X{itr+1}, y{itr+1}): y_hat = {y_hat} , Error = {E[itr]}')\n",
        "    error.append(np.mean(E))\n",
        "  return W1_bar.T, B1, W2_bar.T, B2, W3_bar.T, B3, W4_bar.T, B4, error\n",
        "\n",
        "def FeedForward(X, W1_bar, B1, W2_bar, B2, W3_bar, B3, W4_bar, B4):\n",
        "  A1 = W1_bar @ X + B1\n",
        "  Z = np.tanh(A1)\n",
        "  A2 = W2_bar @ Z + B2\n",
        "  K = Sigmoid(A2)\n",
        "  A3 = W3_bar @ K + B3\n",
        "  P = np.tanh(A3)\n",
        "  A4 = W4_bar @ P + B4\n",
        "  y_hat = RelU(A4)\n",
        "  return A1, Z, A2, K, A3, P, A4, y_hat\n",
        "\n",
        "def BackPropagation(y, X, A1, Z, A2, K, A3, P, A4, y_hat, W1_bar, B1, W2_bar, B2, W3_bar, B3, W4_bar, B4, eta):\n",
        "  # update W4, B4\n",
        "  dE_dy = y_hat - y\n",
        "  dy_dA4 = A4 > 0  # Relu derivative\n",
        "  B4, W4_bar, dE_dA4 = update(B4, W4_bar, dE_dy, dy_dA4, P, eta)\n",
        "  # update W3, B3\n",
        "  dE_dP = dE_dal_1(W4_bar , dE_dA4)\n",
        "  dP_dA3 = 1 - P**2 # tanh derivative\n",
        "  B3, W3_bar, dE_dA3 = update(B3, W3_bar, dE_dP, dP_dA3, K, eta)\n",
        "  # update W2, B2\n",
        "  dE_dK = dE_dal_1(W3_bar , dE_dA3)\n",
        "  dK_dA2 = K * (1-K) # sigmoid derivative\n",
        "  B2, W2_bar, dE_dA2 = update(B2, W2_bar, dE_dK, dK_dA2, Z, eta)\n",
        "  # update W1, B1\n",
        "  dE_dZ = dE_dal_1(W2_bar , dE_dA2)\n",
        "  dZ_dA1 = 1 - Z**2 # tanh derivative\n",
        "  B1, W1_bar, _ = update(B1, W1_bar, dE_dZ, dZ_dA1, X, eta)\n",
        "  return W1_bar, B1, W2_bar, B2, W3_bar, B3, W4_bar, B4\n",
        "\n",
        "def Sigmoid(x):\n",
        "  return 1 / (1 + np.exp(-x))\n",
        "\n",
        "def RelU(x):\n",
        "  return x * (x > 0)\n",
        "\n",
        "def dE_dAl(dE_da, da_dA):\n",
        "  return dE_da * da_dA\n",
        "\n",
        "def dE_dWl(dE_dA, a):\n",
        "  return (dE_dA) @ a.T\n",
        "\n",
        "def dE_dal_1(W_bar , dE_dA):\n",
        "  return W_bar.T @ dE_dA \n",
        "\n",
        "def dE_dBl(dE_dA):\n",
        "  return dE_dA\n",
        "\n",
        "def SD(x, dx, eta):\n",
        "  return x - eta * dx\n",
        "\n",
        "def update(B, W_bar, dE_da, da_dA, a, eta):\n",
        "  dE_dA = dE_dAl(dE_da, da_dA)\n",
        "  dE_dB = dE_dBl(dE_dA)\n",
        "  dE_dW = dE_dWl(dE_dA, a)\n",
        "  B = SD(B, dE_dB, eta)\n",
        "  W_bar = SD(W_bar, dE_dW, eta)\n",
        "  return B, W_bar, dE_dA"
      ]
    },
    {
      "cell_type": "code",
      "execution_count": 142,
      "metadata": {
        "colab": {
          "base_uri": "https://localhost:8080/"
        },
        "id": "k2mpUnwlRDU9",
        "cellView": "form",
        "outputId": "bdf2776e-e907-49c8-ecba-1d7f6008bbc7"
      },
      "outputs": [
        {
          "output_type": "stream",
          "name": "stdout",
          "text": [
            "epoch (1):\n",
            "\tstep 1 (X1, y1): y_hat = [[3.78]] , Error = [[13.6242]]\n",
            "\n",
            "B1_new = \n",
            "[[0.91]\n",
            " [0.62]]\n",
            "W1_new = \n",
            "[[0.9 1.2]\n",
            " [2.7 2.4]\n",
            " [4.5 2.4]]\n",
            "B2_new = \n",
            "[[15.15]\n",
            " [15.25]\n",
            " [15.35]]\n",
            "W2_new = \n",
            "[[9.15 9.25 9.35]\n",
            " [6.45 6.55 6.65]]\n",
            "B3_new = \n",
            "[[1.40571429]\n",
            " [1.50571429]]\n",
            "W3_new = \n",
            "[[54.12 54.22]\n",
            " [54.32 54.42]\n",
            " [54.52 54.62]]\n",
            "B4_new = \n",
            "[[-2.218]]\n",
            "W4_new = \n",
            "[[3.682]\n",
            " [3.882]]\n",
            "\n"
          ]
        },
        {
          "output_type": "stream",
          "name": "stderr",
          "text": [
            "/usr/local/lib/python3.8/dist-packages/numpy/core/_methods.py:163: VisibleDeprecationWarning: Creating an ndarray from ragged nested sequences (which is a list-or-tuple of lists-or-tuples-or ndarrays with different lengths or shapes) is deprecated. If you meant to do this, you must specify 'dtype=object' when creating the ndarray.\n",
            "  arr = asanyarray(a)\n"
          ]
        }
      ],
      "source": [
        "#@title Updeated Coefficients with (X1, y1)\n",
        "X, y, W1, B1, W2, B2, W3, B3, W4, B4 = Initialization(a = 9, b = 6)\n",
        "W1, B1, W2, B2, W3, B3, W4, B4, error = Perceptron(X, y, W1, B1, W2, B2, W3, B3, W4, B4, eta = 0.1, Epoch = 1, Itr = 1)\n",
        "print(f'\\nB1_new = \\n{B1}\\nW1_new = \\n{W1}\\nB2_new = \\n{B2}\\nW2_new = \\n{W2}\\nB3_new = \\n{B3}\\nW3_new = \\n{W3}\\nB4_new = \\n{B4}\\nW4_new = \\n{W4}\\n')"
      ]
    },
    {
      "cell_type": "code",
      "source": [
        "#@title Updeated Coefficients with (X2, y2)\n",
        "X, y, W1, B1, W2, B2, W3, B3, W4, B4 = Initialization(a = 9, b = 6)\n",
        "W1, B1, W2, B2, W3, B3, W4, B4, error = Perceptron(X, y, W1, B1, W2, B2, W3, B3, W4, B4, eta = 0.1, Epoch = 1, Itr = 2)\n",
        "print(f'\\nB1_new = \\n{B1}\\nW1_new = \\n{W1}\\nB2_new = \\n{B2}\\nW2_new = \\n{W2}\\nB3_new = \\n{B3}\\nW3_new = \\n{W3}\\nB4_new = \\n{B4}\\nW4_new = \\n{W4}\\n')"
      ],
      "metadata": {
        "colab": {
          "base_uri": "https://localhost:8080/"
        },
        "cellView": "form",
        "id": "USlfxLfUxpvr",
        "outputId": "cd4e6bb5-80b1-4d38-bdf4-a8cb214ff01d"
      },
      "execution_count": 143,
      "outputs": [
        {
          "output_type": "stream",
          "name": "stdout",
          "text": [
            "epoch (1):\n",
            "\tstep 1 (X1, y1): y_hat = [[3.78]] , Error = [[13.6242]]\n",
            "\tstep 2 (X2, y2): y_hat = [[5.346]] , Error = [[0.213858]]\n",
            "\n",
            "B1_new = \n",
            "[[0.91]\n",
            " [0.62]]\n",
            "W1_new = \n",
            "[[0.9 1.2]\n",
            " [2.7 2.4]\n",
            " [4.5 2.4]]\n",
            "B2_new = \n",
            "[[15.15]\n",
            " [15.25]\n",
            " [15.35]]\n",
            "W2_new = \n",
            "[[9.15 9.25 9.35]\n",
            " [6.45 6.55 6.65]]\n",
            "B3_new = \n",
            "[[1.40571429]\n",
            " [1.50571429]]\n",
            "W3_new = \n",
            "[[54.12 54.22]\n",
            " [54.32 54.42]\n",
            " [54.52 54.62]]\n",
            "B4_new = \n",
            "[[-2.1526]]\n",
            "W4_new = \n",
            "[[3.7474]\n",
            " [3.9474]]\n",
            "\n"
          ]
        }
      ]
    },
    {
      "cell_type": "code",
      "source": [
        "#@title Updeated Coefficients with (X1, y1)\n",
        "X, y, W1, B1, W2, B2, W3, B3, W4, B4 = Initialization(a = 9, b = 6)\n",
        "W1, B1, W2, B2, W3, B3, W4, B4, error = Perceptron(X, y, W1, B1, W2, B2, W3, B3, W4, B4, eta = 0.1, Epoch = 10, Itr = 2)\n",
        "print(f'\\nB1_new = \\n{B1}\\nW1_new = \\n{W1}\\nB2_new = \\n{B2}\\nW2_new = \\n{W2}\\nB3_new = \\n{B3}\\nW3_new = \\n{W3}\\nB4_new = \\n{B4}\\nW4_new = \\n{W4}\\n')\n",
        "plt.plot(np.arange(10)+1, error)\n",
        "plt.xlabel('Epoch')\n",
        "plt.ylabel('Error')\n",
        "plt.title('Error of MLP after updating coeficients')"
      ],
      "metadata": {
        "colab": {
          "base_uri": "https://localhost:8080/",
          "height": 1000
        },
        "cellView": "form",
        "id": "u2DM2dSz71l7",
        "outputId": "ad79b1be-5e89-4015-a158-e3b904d2ca5f"
      },
      "execution_count": 145,
      "outputs": [
        {
          "output_type": "stream",
          "name": "stdout",
          "text": [
            "epoch (1):\n",
            "\tstep 1 (X1, y1): y_hat = [[3.78]] , Error = [[13.6242]]\n",
            "\tstep 2 (X2, y2): y_hat = [[5.346]] , Error = [[0.213858]]\n",
            "epoch (2):\n",
            "\tstep 1 (X1, y1): y_hat = [[5.5422]] , Error = [[5.97819042]]\n",
            "\tstep 2 (X2, y2): y_hat = [[6.57954]] , Error = [[0.16793331]]\n",
            "epoch (3):\n",
            "\tstep 1 (X1, y1): y_hat = [[6.405678]] , Error = [[3.36525332]]\n",
            "\tstep 2 (X2, y2): y_hat = [[7.1839746]] , Error = [[0.70089793]]\n",
            "epoch (4):\n",
            "\tstep 1 (X1, y1): y_hat = [[6.82878222]] , Error = [[2.35709332]]\n",
            "\tstep 2 (X2, y2): y_hat = [[7.48014755]] , Error = [[1.09541839]]\n",
            "epoch (5):\n",
            "\tstep 1 (X1, y1): y_hat = [[7.03610329]] , Error = [[1.92844515]]\n",
            "\tstep 2 (X2, y2): y_hat = [[7.6252723]] , Error = [[1.32075503]]\n",
            "epoch (6):\n",
            "\tstep 1 (X1, y1): y_hat = [[7.13769061]] , Error = [[1.73409813]]\n",
            "\tstep 2 (X2, y2): y_hat = [[7.69638343]] , Error = [[1.43885837]]\n",
            "epoch (7):\n",
            "\tstep 1 (X1, y1): y_hat = [[7.1874684]] , Error = [[1.6426354]]\n",
            "\tstep 2 (X2, y2): y_hat = [[7.73122788]] , Error = [[1.49857499]]\n",
            "epoch (8):\n",
            "\tstep 1 (X1, y1): y_hat = [[7.21185952]] , Error = [[1.5987232]]\n",
            "\tstep 2 (X2, y2): y_hat = [[7.74830166]] , Error = [[1.52827935]]\n",
            "epoch (9):\n",
            "\tstep 1 (X1, y1): y_hat = [[7.22381116]] , Error = [[1.57742339]]\n",
            "\tstep 2 (X2, y2): y_hat = [[7.75666781]] , Error = [[1.5429409]]\n",
            "epoch (10):\n",
            "\tstep 1 (X1, y1): y_hat = [[7.22966747]] , Error = [[1.56703863]]\n",
            "\tstep 2 (X2, y2): y_hat = [[7.76076723]] , Error = [[1.55015062]]\n",
            "\n",
            "B1_new = \n",
            "[[0.91]\n",
            " [0.62]]\n",
            "W1_new = \n",
            "[[0.9 1.2]\n",
            " [2.7 2.4]\n",
            " [4.5 2.4]]\n",
            "B2_new = \n",
            "[[15.15]\n",
            " [15.25]\n",
            " [15.35]]\n",
            "W2_new = \n",
            "[[9.15 9.25 9.35]\n",
            " [6.45 6.55 6.65]]\n",
            "B3_new = \n",
            "[[1.40571429]\n",
            " [1.50571429]]\n",
            "W3_new = \n",
            "[[54.12 54.22]\n",
            " [54.32 54.42]\n",
            " [54.52 54.62]]\n",
            "B4_new = \n",
            "[[-1.58915431]]\n",
            "W4_new = \n",
            "[[4.31084569]\n",
            " [4.51084569]]\n",
            "\n"
          ]
        },
        {
          "output_type": "execute_result",
          "data": {
            "text/plain": [
              "Text(0.5, 1.0, 'Error of MLP after updating coeficients')"
            ]
          },
          "metadata": {},
          "execution_count": 145
        },
        {
          "output_type": "display_data",
          "data": {
            "text/plain": [
              "<Figure size 432x288 with 1 Axes>"
            ],
            "image/png": "[encoded data removed]"
          },
          "metadata": {
            "needs_background": "light"
          }
        }
      ]
    }
  ],
  "metadata": {
    "colab": {
      "provenance": []
    },
    "kernelspec": {
      "display_name": "Python 3",
      "name": "python3"
    },
    "language_info": {
      "name": "python"
    }
  },
  "nbformat": 4,
  "nbformat_minor": 0
}